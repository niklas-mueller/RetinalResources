{
 "cells": [
  {
   "cell_type": "code",
   "execution_count": 5,
   "metadata": {
    "collapsed": false
   },
   "outputs": [],
   "source": [
    "import os\n",
    "\n",
    "#Train Regular CNN\n",
    "trial_label = 'VANILLA'\n",
    "vvs_layers = 0\n",
    "retina_out_width = 1\n",
    "os.system('python3 TrainModel.py --trial_label '+trial_label+' --vvs_layers '+str(vvs_layers)+' --retina_out_width '+str(retina_out_width))\n",
    "\n"
   ]
  },
  {
   "cell_type": "code",
   "execution_count": 6,
   "metadata": {
    "collapsed": false
   },
   "outputs": [
    {
     "name": "stderr",
     "output_type": "stream",
     "text": [
      "Using TensorFlow backend.\n",
      "Traceback (most recent call last):\n",
      "  File \"VisualizeRFs.py\", line 17, in <module>\n",
      "    from scipy.misc import imsave\n",
      "ImportError: cannot import name 'imsave' from 'scipy.misc' (/home/niklas/anaconda3/envs/retinalresources/lib/python3.7/site-packages/scipy/misc/__init__.py)\n",
      "Using TensorFlow backend.\n",
      "Traceback (most recent call last):\n",
      "  File \"VisualizeRFs.py\", line 17, in <module>\n",
      "    from scipy.misc import imsave\n",
      "ImportError: cannot import name 'imsave' from 'scipy.misc' (/home/niklas/anaconda3/envs/retinalresources/lib/python3.7/site-packages/scipy/misc/__init__.py)\n"
     ]
    },
    {
     "data": {
      "text/plain": [
       "256"
      ]
     },
     "execution_count": 6,
     "metadata": {},
     "output_type": "execute_result"
    }
   ],
   "source": [
    "#Visualize Regular CNN layer 2 and 3 RFs\n",
    "#Check saved_visualizations folder for \n",
    "#VIS_SAVED_cifar10_type_VANILLA...retina_2.png (layer 2)\n",
    "#VIS_SAVED_cifar10_type_VANILLA...vvs_1.png  (layer 3)\n",
    "\n",
    "os.system('python3 VisualizeRFs.py --trial_label '+trial_label+' --vvs_layers '+str(vvs_layers)+' --retina_out_width '+str(retina_out_width)+' --layer_name retina_2')\n",
    "os.system('python3 VisualizeRFs.py --trial_label '+trial_label+' --vvs_layers '+str(vvs_layers)+' --retina_out_width '+str(retina_out_width)+' --layer_name vvs_1')"
   ]
  },
  {
   "cell_type": "code",
   "execution_count": 3,
   "metadata": {
    "collapsed": false
   },
   "outputs": [
    {
     "data": {
      "text/plain": [
       "0"
      ]
     },
     "execution_count": 3,
     "metadata": {},
     "output_type": "execute_result"
    }
   ],
   "source": [
    "#Train CNN with retina bottleneck\n",
    "trial_label = 'BOTTLENECK'\n",
    "vvs_layers = 2\n",
    "retina_out_width = 1\n",
    "os.system('python3 TrainModel.py --trial_label '+trial_label+' --vvs_layers '+str(vvs_layers)+' --retina_out_width '+str(retina_out_width))\n"
   ]
  },
  {
   "cell_type": "code",
   "execution_count": 4,
   "metadata": {
    "collapsed": false
   },
   "outputs": [
    {
     "data": {
      "text/plain": [
       "0"
      ]
     },
     "execution_count": 4,
     "metadata": {},
     "output_type": "execute_result"
    }
   ],
   "source": [
    "#Visualize Regular CNN layer 2 (retina) and 3 (V1) RFs\n",
    "#Check saved_visualizations folder\n",
    "#VIS_SAVED_cifar10_type_BOTTLENECK...retina_2.png (retina output, i.e. layer 2)\n",
    "#VIS_SAVED_cifar10_type_BOTTLENECK...vvs_1.png  (V1 layer, i.e. layer 3)\n",
    "os.system('python3 VisualizeRFs.py --trial_label '+trial_label+' --vvs_layers '+str(vvs_layers)+' --retina_out_width '+str(retina_out_width)+' --layer_name retina_2')\n",
    "os.system('python3 VisualizeRFs.py --trial_label '+trial_label+' --vvs_layers '+str(vvs_layers)+' --retina_out_width '+str(retina_out_width)+' --layer_name vvs_1')"
   ]
  },
  {
   "cell_type": "code",
   "execution_count": null,
   "metadata": {
    "collapsed": true
   },
   "outputs": [],
   "source": [
    "#note that the visualizations will typically show only some of the RFs in the given layer,\n",
    "#as the gradient ascent procedure used to approximate RFs\n",
    "#may get stuck with zero gradient due to ReLU nonlinearities.\n",
    "#Running multiple trials gets around this problem"
   ]
  }
 ],
 "metadata": {
  "kernelspec": {
   "display_name": "Python 3.7.0 ('retinalresources')",
   "language": "python",
   "name": "python3"
  },
  "language_info": {
   "codemirror_mode": {
    "name": "ipython",
    "version": 3
   },
   "file_extension": ".py",
   "mimetype": "text/x-python",
   "name": "python",
   "nbconvert_exporter": "python",
   "pygments_lexer": "ipython3",
   "version": "3.7.0"
  },
  "vscode": {
   "interpreter": {
    "hash": "1f8618e2e47da4db19d1f756126803e93452ce5c25ea8c5b93b88e9f0d9af873"
   }
  }
 },
 "nbformat": 4,
 "nbformat_minor": 2
}
